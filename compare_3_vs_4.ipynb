{
 "cells": [
  {
   "cell_type": "code",
   "execution_count": 1,
   "metadata": {},
   "outputs": [],
   "source": [
    "%load_ext autoreload\n",
    "%autoreload 2\n",
    "%matplotlib inline\n",
    "import ipywidgets as w\n",
    "import matplotlib.pyplot as plt\n",
    "import numpy as np\n",
    "import netCDF4\n",
    "plt.rcParams.update({'font.size': 16})\n",
    "from matplotlib.ticker import (MultipleLocator, FormatStrFormatter,\n",
    "                               AutoMinorLocator)\n",
    "from scipy.stats import skew"
   ]
  },
  {
   "cell_type": "code",
   "execution_count": 2,
   "metadata": {},
   "outputs": [],
   "source": [
    "from typhon.retrieval.qrnn import set_backend, QRNN\n",
    "set_backend(\"pytorch\")\n",
    "\n",
    "#quantiles = np.array([0.05, 0.15, 0.25, 0.35, 0.45, 0.5, 0.55, 0.65, 0.75, 0.85, 0.95])\n",
    "quantiles = np.array([0.03, 0.16, 0.5, 0.84, 0.97])\n",
    "#inChannels = ['C34', 'C41', 'C42', 'C43']\n",
    "dtb_max_meas = 15\n",
    "quantiles = np.array([0.002, 0.03, 0.16, 0.5, 0.84, 0.97, 0.998])"
   ]
  },
  {
   "cell_type": "markdown",
   "metadata": {},
   "source": [
    "## Read three and four channel input data"
   ]
  },
  {
   "cell_type": "code",
   "execution_count": 3,
   "metadata": {},
   "outputs": [
    {
     "name": "stdout",
     "output_type": "stream",
     "text": [
      "[2, 7]\n",
      "[2, 8, 9, 10, 11]\n"
     ]
    }
   ],
   "source": [
    "from aws_test_data import awsTestData\n",
    "\n",
    "c183   = \"C32\"\n",
    "c325_3 = \"C4X\"\n",
    "c325_4 = \"C41\"\n",
    "\n",
    "option3a = True\n",
    "option3b = not option3a\n",
    "\n",
    "\n",
    "\n",
    "\n",
    "#inChannels_3 = np.array([c183, 'C41', 'C42', 'C43'])\n",
    "inChannels_3 = np.array([c183, c325_3])\n",
    "if option3b:\n",
    "    test_data_3  = awsTestData(\"/home/inderpreet/Dendrite/Projects/AWS-325GHz/TB_AWS/testing_data_noise_three_b_Trec1.nc\",\n",
    "               inChannels_3, option = 3)\n",
    "\n",
    "if option3a:\n",
    "    test_data_3  = awsTestData(\"/home/inderpreet/Dendrite/Projects/AWS-325GHz/TB_AWS/testing_data_noise_three_a_Trec1.nc\",\n",
    "               inChannels_3, option = 3)    \n",
    "\n",
    "inChannels_4 = np.array([c183, 'C41', 'C42', 'C43', 'C44'])\n",
    "test_data_4 = awsTestData(\"/home/inderpreet/Dendrite/Projects/AWS-325GHz/TB_AWS/testing_data_noise_four_Trec1.nc\", \n",
    "               inChannels_4, option = 4)     "
   ]
  },
  {
   "cell_type": "markdown",
   "metadata": {},
   "source": [
    "## Load the QRNN model for three and four channel option"
   ]
  },
  {
   "cell_type": "code",
   "execution_count": 4,
   "metadata": {},
   "outputs": [],
   "source": [
    "if option3a:\n",
    "    qrnn_3 = QRNN.load('option3a_qrnn_models_3sigma/qrnn_4_256_%s_4X.nc'%c183)\n",
    "if option3b:\n",
    "    qrnn_3 = QRNN.load('option3b_qrnn_models_3sigma_Trec1/qrnn_4_128_%s.nc'%c183)\n",
    "    \n",
    "qrnn_4 = QRNN.load('option4_qrnn_models_3sigma_Trec1/qrnn_4_128_%s.nc'%c183)"
   ]
  },
  {
   "cell_type": "code",
   "execution_count": 5,
   "metadata": {},
   "outputs": [
    {
     "name": "stdout",
     "output_type": "stream",
     "text": [
      "0 1 1\n"
     ]
    }
   ],
   "source": [
    "i183   = np.argwhere(inChannels_3 == c183)[0,0]\n",
    "i325_3 = np.argwhere(inChannels_3 == c325_3)[0,0]\n",
    "i325_4 = np.argwhere(inChannels_4 == c325_4)[0,0]\n",
    "print (i183, i325_3, i325_4)"
   ]
  },
  {
   "cell_type": "code",
   "execution_count": 6,
   "metadata": {},
   "outputs": [],
   "source": [
    "def predict(test_data, qrnn):\n",
    "    \"\"\"\n",
    "    predict the posterior mean and median\n",
    "    \"\"\"\n",
    "    x = (test_data.x - test_data.mean)/test_data.std\n",
    "\n",
    "    y_pre = qrnn.predict(x.data)\n",
    "    y_prior = test_data.x\n",
    "    y0 = test_data.y0\n",
    "    y = test_data.y\n",
    "    y_pos_mean = qrnn.posterior_mean(x.data)\n",
    "    \n",
    "    return y_pre, y_prior, y0, y, y_pos_mean\n",
    "    "
   ]
  },
  {
   "cell_type": "code",
   "execution_count": 7,
   "metadata": {},
   "outputs": [],
   "source": [
    "def calculate_pdf(y_pre, y_prior, y0, y, y_pos_mean, bins, iq, im):\n",
    "\n",
    "    dtb_pre      = y_pre[:, iq] - y0\n",
    "    dtb_prior    = y_prior[:, 0] - y0\n",
    "    dtb_pos_mean = y_pos_mean - y0\n",
    "    noise        = y - y0\n",
    "\n",
    "    hist_noise    = np.histogram(noise, bins, density = True)\n",
    "    hist_pre      = np.histogram(dtb_pre, bins, density = True)\n",
    "    hist_prior    = np.histogram(dtb_prior, bins, density = True)\n",
    "    hist_pos_mean = np.histogram(dtb_pos_mean[im], bins, density = True)\n",
    "    \n",
    "    return hist_noise, hist_pre, hist_prior, hist_pos_mean"
   ]
  },
  {
   "cell_type": "code",
   "execution_count": 8,
   "metadata": {},
   "outputs": [],
   "source": [
    "def calculate_bias(y_prior, y0, y, y_pos_mean, im): \n",
    "    b0  = np.mean(y - y0)\n",
    "    b1  = np.mean(y_prior[:, 0] - y0)\n",
    "    b2a = np.mean(y_pos_mean - y0) \n",
    "    b2b = np.mean(y_pos_mean[im] - y0[im])\n",
    "    return b0, b1, b2a, b2b"
   ]
  },
  {
   "cell_type": "code",
   "execution_count": 9,
   "metadata": {},
   "outputs": [],
   "source": [
    "def calculate_mae(y_prior, y0, y, y_pos_mean, im): \n",
    "    mae0  = np.mean(abs(y - y0))\n",
    "    mae1  = np.mean(abs(y_prior[:, 0] - y0))\n",
    "    mae2a = np.mean(abs(y_pos_mean - y0)) \n",
    "    mae2b = np.mean(abs(y_pos_mean[im] - y0[im]))\n",
    "    return mae0, mae1, mae2a, mae2b"
   ]
  },
  {
   "cell_type": "code",
   "execution_count": 10,
   "metadata": {},
   "outputs": [],
   "source": [
    "def calculate_std(y_prior, y0, y, y_pos_mean, im):  \n",
    "    std0  = np.std(y - y0)\n",
    "    std1  = np.std(y_prior[:, 0] - y0)\n",
    "    std2a = np.std(y_pos_mean - y0)\n",
    "    std2b = np.std(y_pos_mean[im] - y0[im])\n",
    "    return std0, std1, std2a, std2b"
   ]
  },
  {
   "cell_type": "code",
   "execution_count": 11,
   "metadata": {},
   "outputs": [],
   "source": [
    "def calculate_skew(y_prior, y0, y, y_pos_mean, im):\n",
    "    skew0  = skew(y - y0)\n",
    "    skew1  = skew(y_prior[:, 0] - y0)\n",
    "    skew2a = skew(y_pos_mean - y0)\n",
    "    skew2b = skew(y_pos_mean[im] - y0[im])\n",
    "    return skew0, skew1, skew2a, skew2b"
   ]
  },
  {
   "cell_type": "markdown",
   "metadata": {},
   "source": [
    "## predict the expectation value"
   ]
  },
  {
   "cell_type": "code",
   "execution_count": 12,
   "metadata": {},
   "outputs": [
    {
     "data": {
      "text/plain": [
       "array([[280.96466, 285.3566 ],\n",
       "       [281.25412, 284.1684 ],\n",
       "       [281.48868, 283.83142],\n",
       "       ...,\n",
       "       [271.29333, 270.58322],\n",
       "       [271.69785, 270.72668],\n",
       "       [271.5004 , 270.61142]], dtype=float32)"
      ]
     },
     "execution_count": 12,
     "metadata": {},
     "output_type": "execute_result"
    }
   ],
   "source": [
    "y_pre_3, y_prior_3, y0, y_3, y_pos_mean_3 = predict(test_data_3, qrnn_3)\n",
    "y_pre_4, y_prior_4, y0, y_4, y_pos_mean_4 = predict(test_data_4, qrnn_4)\n"
   ]
  },
  {
   "cell_type": "code",
   "execution_count": 13,
   "metadata": {},
   "outputs": [],
   "source": [
    "im_3 = np.abs(y_prior_3[:, i325_3] - y_prior_3[:, i183]) <= dtb_max_meas \n",
    "im_4 = np.abs(y_prior_4[:, i325_4] - y_prior_4[:, i183]) <= dtb_max_meas \n",
    "\n",
    "\n",
    "binstep = 0.5\n",
    "bins = np.arange(-30, 8, binstep)\n",
    "iq = np.argwhere(quantiles == 0.5)[0,0]"
   ]
  },
  {
   "cell_type": "markdown",
   "metadata": {},
   "source": [
    "## calculate and plot the PDF of deviations\n"
   ]
  },
  {
   "cell_type": "code",
   "execution_count": 14,
   "metadata": {},
   "outputs": [],
   "source": [
    "\n",
    "hist_noise_3, hist_pre_3, hist_prior_3, hist_pos_mean_3 = calculate_pdf(y_pre_3, y_prior_3, y0, y_4, y_pos_mean_3, bins, iq, im_3)\n",
    "\n",
    "hist_noise_4, hist_pre_4, hist_prior_4, hist_pos_mean_4 = calculate_pdf(y_pre_4, y_prior_4, y0, y_4, y_pos_mean_4, bins, iq, im_4)"
   ]
  },
  {
   "cell_type": "code",
   "execution_count": 15,
   "metadata": {},
   "outputs": [
    {
     "data": {
      "image/png": "[encoded data removed]",
      "text/plain": [
       "<Figure size 576x576 with 1 Axes>"
      ]
     },
     "metadata": {
      "needs_background": "light"
     },
     "output_type": "display_data"
    }
   ],
   "source": [
    "fig, ax = plt.subplots(1,1, figsize = [8,8])\n",
    "ax.plot(bins[:-1], hist_noise_4[0])\n",
    "ax.plot(bins[:-1], hist_prior_4[0])\n",
    "#ax.plot(bins[:-1], hist_pre_4[0])\n",
    "ax.plot(bins[:-1], hist_pos_mean_3[0])\n",
    "ax.plot(bins[:-1], hist_pos_mean_4[0])\n",
    "\n",
    "ax.set_yscale('log')\n",
    "ax.set_ylabel('Occurence frequency [#/K]')\n",
    "ax.set_xlabel('Deviation to noise free clear-sky [K]')\n",
    "ax.xaxis.set_minor_locator(MultipleLocator(1))\n",
    "ax.grid(which = 'both', alpha = 0.4)\n",
    "\n",
    "\n",
    "ax.legend([\"Noise\", \"Uncorrected\", \"Predicted (three-b)\", \"Predicted (four)\" ], prop={'size': 14})\n",
    "\n",
    "#ax.set_title(\"Channel :%s\"%inChannels[0])\n",
    "\n",
    "fig.savefig('Figures/Channel_%s'%inChannels_3[0])"
   ]
  },
  {
   "cell_type": "markdown",
   "metadata": {},
   "source": [
    " ### Calculate different statistics"
   ]
  },
  {
   "cell_type": "markdown",
   "metadata": {},
   "source": [
    "## THREE CHANNEL OPTION"
   ]
  },
  {
   "cell_type": "code",
   "execution_count": 16,
   "metadata": {},
   "outputs": [
    {
     "name": "stdout",
     "output_type": "stream",
     "text": [
      "\\begin{tabular}{lrrrrr}\n",
      "\\hline\n",
      " Dataset                    &   bias &   mae &   std &   measure skewness &   rejected \\\\\n",
      "\\hline\n",
      " Noise                      & -0.001 & 0.361 & 0.451 &              0.020 &      0.000 \\\\\n",
      " uncorrected                & -1.337 & 1.583 & 5.901 &             -7.476 &      0.000 \\\\\n",
      " corrected                  & -0.106 & 0.977 & 1.938 &             -3.317 &      0.000 \\\\\n",
      " corrected (three channela) &  0.008 & 0.806 & 1.510 &             -4.061 &      3.670 \\\\\n",
      "\\hline\n",
      "\\end{tabular}\n",
      "[0, 0, 0, 3.6704925872788174]\n"
     ]
    }
   ],
   "source": [
    "b0, b1, b2a, b2b = calculate_bias(y_prior_3, y0, y_4, y_pos_mean_3, im_3)\n",
    "mae0, mae1, mae2a, mae2b = calculate_mae(y_prior_3, y0, y_4, y_pos_mean_3, im_3)\n",
    "std0, std1, std2a, std2b = calculate_std(y_prior_3, y0, y_4, y_pos_mean_3, im_3)\n",
    "skew0 , skew1, skew2a, skew2b = calculate_skew(y_prior_3, y0, y_4, y_pos_mean_3, im_3)\n",
    "\n",
    "from tabulate import tabulate\n",
    "b = [b0, b1,  b2a, b2b]\n",
    "mae = [mae0, mae1,  mae2a, mae2b]\n",
    "std = [std0, std1,  std2a, std2b]\n",
    "skewness = [skew0, skew1,  skew2a, skew2b]\n",
    "rejected = 1 - np.sum(im_3)/im_3.size\n",
    "rejected = [0, 0, 0, rejected * 100]\n",
    "\n",
    "if option3a:\n",
    "    sets = ['Noise', 'uncorrected', 'corrected', \"corrected (three channela)\"]#, 'corrected(1sigma)', 'sreerekha et al', 'filtered(1sigma)']\n",
    "\n",
    "if option3b:\n",
    "     sets = ['Noise', 'uncorrected', 'corrected', \"corrected (three channelb)\"]#, 'corrected(1sigma)', 'sreerekha et al', 'filtered(1sigma)']\n",
    "   \n",
    "#table  = [[sets[i], b[i], std[i], skewness[i], rejected[i]] for i in range(4)]\n",
    "  \n",
    "#print(tabulate(table\n",
    "#         , [\"Dataset\",\"bias\", \"std\", \"measure skewness\", 'rejected'],  tablefmt=\"latex\", floatfmt=\".3f\"))\n",
    "\n",
    "table  = [[sets[i], b[i], mae[i], std[i], skewness[i], rejected[i]] for i in range(4)]\n",
    "print(tabulate(table\n",
    "         , [\"Dataset\",\"bias\", \"mae\", \"std\", \"measure skewness\", 'rejected'],  tablefmt=\"latex\", floatfmt=\".3f\"))\n",
    "\n",
    "print (rejected)"
   ]
  },
  {
   "cell_type": "markdown",
   "metadata": {},
   "source": [
    "## FOUR CHANNEL OPTION"
   ]
  },
  {
   "cell_type": "code",
   "execution_count": 17,
   "metadata": {},
   "outputs": [
    {
     "name": "stdout",
     "output_type": "stream",
     "text": [
      "\\begin{tabular}{lrrrrr}\n",
      "\\hline\n",
      " Dataset                  &   bias &   mae &   std &   measure skewness &   rejected \\\\\n",
      "\\hline\n",
      " Noise                    & -0.001 & 0.361 & 0.451 &              0.020 &      0.000 \\\\\n",
      " uncorrected              & -1.342 & 1.583 & 5.908 &             -7.479 &      0.000 \\\\\n",
      " corrected                & -0.032 & 0.666 & 1.117 &             -2.199 &      0.000 \\\\\n",
      " corrected (four channel) &  0.006 & 0.570 & 0.860 &             -2.943 &      4.954 \\\\\n",
      "\\hline\n",
      "\\end{tabular}\n",
      "[0, 0, 0, 4.953770125936552]\n"
     ]
    }
   ],
   "source": [
    "b0, b1, b2a, b2b = calculate_bias(y_prior_4, y0, y_4, y_pos_mean_4, im_4)\n",
    "mae0, mae1, mae2a, mae2b = calculate_mae(y_prior_4, y0, y_4, y_pos_mean_4, im_4)\n",
    "std0, std1, std2a, std2b = calculate_std(y_prior_4, y0, y_4, y_pos_mean_4, im_4)\n",
    "skew0 , skew1, skew2a, skew2b = calculate_skew(y_prior_4, y0, y_4, y_pos_mean_4, im_4)\n",
    "b = [b0, b1,  b2a, b2b]\n",
    "mae = [mae0, mae1,  mae2a, mae2b]\n",
    "std = [std0, std1,  std2a, std2b]\n",
    "skewness = [skew0, skew1,  skew2a, skew2b]\n",
    "rejected = 1 - np.sum(im_4)/im_4.size \n",
    "rejected = [0, 0, 0, rejected * 100]\n",
    "\n",
    "\n",
    "sets = ['Noise', 'uncorrected', 'corrected', \"corrected (four channel)\"]#, 'corrected(1sigma)', 'sreerekha et al', 'filtered(1sigma)']\n",
    "\n",
    "#table  = [[sets[i], b[i], std[i], skewness[i], rejected[i]] for i in range(4)]\n",
    "\n",
    "#print(tabulate(table\n",
    "#         , [\"Dataset\",\"bias\", \"std\", \"measure skewness\", 'rejected'],  tablefmt=\"latex\", floatfmt=\".3f\"))\n",
    "\n",
    "table  = [[sets[i], b[i], mae[i], std[i], skewness[i], rejected[i]] for i in range(4)]\n",
    "print(tabulate(table\n",
    "         , [\"Dataset\",\"bias\", \"mae\", \"std\", \"measure skewness\", 'rejected'],  tablefmt=\"latex\", floatfmt=\".3f\"))\n",
    "\n",
    "\n",
    "print (rejected)"
   ]
  },
  {
   "cell_type": "code",
   "execution_count": null,
   "metadata": {},
   "outputs": [],
   "source": []
  },
  {
   "cell_type": "code",
   "execution_count": null,
   "metadata": {},
   "outputs": [],
   "source": []
  },
  {
   "cell_type": "code",
   "execution_count": null,
   "metadata": {},
   "outputs": [],
   "source": []
  },
  {
   "cell_type": "code",
   "execution_count": null,
   "metadata": {},
   "outputs": [],
   "source": []
  }
 ],
 "metadata": {
  "kernelspec": {
   "display_name": "Python 3",
   "language": "python",
   "name": "python3"
  },
  "language_info": {
   "codemirror_mode": {
    "name": "ipython",
    "version": 3
   },
   "file_extension": ".py",
   "mimetype": "text/x-python",
   "name": "python",
   "nbconvert_exporter": "python",
   "pygments_lexer": "ipython3",
   "version": "3.7.6"
  }
 },
 "nbformat": 4,
 "nbformat_minor": 4
}
